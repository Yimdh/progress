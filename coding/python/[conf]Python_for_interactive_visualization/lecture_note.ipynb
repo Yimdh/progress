{
 "cells": [
  {
   "cell_type": "markdown",
   "metadata": {},
   "source": [
    "## 1.데이터 시각화 기초\n",
    "+ [ref]fundermentals of data visualization - claus O.wike review"
   ]
  },
  {
   "cell_type": "markdown",
   "metadata": {},
   "source": [
    "+ why Bokeh? \n",
    " + easy"
   ]
  },
  {
   "cell_type": "markdown",
   "metadata": {},
   "source": [
    "+ what is the data visualization : 데이터를 명확하고 직관적으로 전달 & 미적 즐거움(데이터+시각화)"
   ]
  },
  {
   "cell_type": "markdown",
   "metadata": {},
   "source": [
    "+ Data\n",
    " +  \n",
    " + datatype\n",
    " + scale\n",
    "+ 좌표계와 축\n",
    " + 로그,제곱근,선형 등...\n",
    "+ 컬러스케일\n",
    " + 순차 스케일\n",
    " + 발산적 컬러 스케일\n",
    " + 액센트 컬러 스케일\n",
    "+ 시각화 유형"
   ]
  },
  {
   "cell_type": "code",
   "execution_count": null,
   "metadata": {},
   "outputs": [],
   "source": []
  },
  {
   "cell_type": "code",
   "execution_count": null,
   "metadata": {},
   "outputs": [],
   "source": []
  }
 ],
 "metadata": {
  "kernelspec": {
   "display_name": "Python 3",
   "language": "python",
   "name": "python3"
  },
  "language_info": {
   "codemirror_mode": {
    "name": "ipython",
    "version": 3
   },
   "file_extension": ".py",
   "mimetype": "text/x-python",
   "name": "python",
   "nbconvert_exporter": "python",
   "pygments_lexer": "ipython3",
   "version": "3.7.1"
  }
 },
 "nbformat": 4,
 "nbformat_minor": 2
}
