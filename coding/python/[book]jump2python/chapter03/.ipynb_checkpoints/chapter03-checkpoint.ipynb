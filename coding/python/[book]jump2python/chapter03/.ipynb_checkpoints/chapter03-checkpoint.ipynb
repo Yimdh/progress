{
 "cells": [
  {
   "cell_type": "code",
   "execution_count": 17,
   "metadata": {},
   "outputs": [
    {
     "name": "stdout",
     "output_type": "stream",
     "text": [
      "shirt\n"
     ]
    }
   ],
   "source": [
    "#연습문제Q1\n",
    "a=\"Life is too short, you need python\"\n",
    "\n",
    "if \"wife\" in a:\n",
    "    print(\"wife\")\n",
    "elif (\"python\" in a)&(\"you\" not in a):\n",
    "    print(\"python\")\n",
    "elif \"shirt\" not in a :\n",
    "    print(\"shirt\")\n",
    "elif \"need\" in a :\n",
    "    print(\"need\")\n",
    "else:print(\"none\")"
   ]
  },
  {
   "cell_type": "code",
   "execution_count": 18,
   "metadata": {},
   "outputs": [
    {
     "name": "stdout",
     "output_type": "stream",
     "text": [
      "*\n",
      "**\n",
      "***\n",
      "****\n",
      "*****\n"
     ]
    }
   ],
   "source": [
    "#연습문제Q2\n",
    "i=0\n",
    "while True:\n",
    "    i+=1\n",
    "    if(i>5):\n",
    "        break\n",
    "    print(\"*\"*i)\n",
    "        "
   ]
  },
  {
   "cell_type": "code",
   "execution_count": 30,
   "metadata": {},
   "outputs": [
    {
     "name": "stdout",
     "output_type": "stream",
     "text": [
      "79.0\n"
     ]
    }
   ],
   "source": [
    "#연습문제Q3\n",
    "A=[70,60,55,75,95,90,80,80,85,100]\n",
    "total=0\n",
    "for a in A:\n",
    "    total+=a\n",
    "average = total/len(A)\n",
    "print(average)    \n"
   ]
  },
  {
   "cell_type": "code",
   "execution_count": 33,
   "metadata": {},
   "outputs": [
    {
     "name": "stdout",
     "output_type": "stream",
     "text": [
      "[2, 6, 10]\n"
     ]
    }
   ],
   "source": [
    "#연습문제Q4\n",
    "numbers=[1,2,3,4,5]\n",
    "result =[]\n",
    "for n in numbers:\n",
    "    if n%2==1:\n",
    "        result.append(n*2)\n",
    "        \n",
    "print(result)"
   ]
  },
  {
   "cell_type": "code",
   "execution_count": 41,
   "metadata": {},
   "outputs": [
    {
     "data": {
      "text/plain": [
       "[2, 6, 10]"
      ]
     },
     "execution_count": 41,
     "metadata": {},
     "output_type": "execute_result"
    }
   ],
   "source": [
    "[num*2 for num in numbers if num%2==1 ]"
   ]
  },
  {
   "cell_type": "code",
   "execution_count": null,
   "metadata": {},
   "outputs": [],
   "source": []
  }
 ],
 "metadata": {
  "kernelspec": {
   "display_name": "Python 3",
   "language": "python",
   "name": "python3"
  },
  "language_info": {
   "codemirror_mode": {
    "name": "ipython",
    "version": 3
   },
   "file_extension": ".py",
   "mimetype": "text/x-python",
   "name": "python",
   "nbconvert_exporter": "python",
   "pygments_lexer": "ipython3",
   "version": "3.6.3"
  }
 },
 "nbformat": 4,
 "nbformat_minor": 2
}
