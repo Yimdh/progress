{
 "cells": [
  {
   "cell_type": "code",
   "execution_count": 90,
   "metadata": {},
   "outputs": [],
   "source": [
    "import numpy as np"
   ]
  },
  {
   "cell_type": "code",
   "execution_count": 94,
   "metadata": {},
   "outputs": [],
   "source": [
    "now=np.zeros((8,8))"
   ]
  },
  {
   "cell_type": "code",
   "execution_count": 95,
   "metadata": {},
   "outputs": [],
   "source": [
    "now[2:5,3]=1\n",
    "now[3,2:5]=1"
   ]
  },
  {
   "cell_type": "code",
   "execution_count": 141,
   "metadata": {},
   "outputs": [
    {
     "name": "stdout",
     "output_type": "stream",
     "text": [
      "[[0. 0. 0. 0. 0. 0. 0. 0.]\n",
      " [0. 0. 0. 0. 0. 0. 0. 0.]\n",
      " [0. 0. 1. 1. 1. 0. 0. 0.]\n",
      " [0. 0. 1. 0. 1. 0. 0. 0.]\n",
      " [0. 0. 1. 1. 1. 0. 0. 0.]\n",
      " [0. 0. 0. 0. 0. 0. 0. 0.]\n",
      " [0. 0. 0. 0. 0. 0. 0. 0.]\n",
      " [0. 0. 0. 0. 0. 0. 0. 0.]]\n",
      "[[ 0.  0.  0.  0.  0.  0.  0.  0.]\n",
      " [ 0.  0.  0.  0.  0.  0.  0.  0.]\n",
      " [ 0.  0.  1.  2.  1.  0.  0.  0.]\n",
      " [ 0.  0.  2. -1.  2.  0.  0.  0.]\n",
      " [ 0.  0.  1.  2.  1.  0.  0.  0.]\n",
      " [ 0.  0.  0.  0.  0.  0.  0.  0.]\n",
      " [ 0.  0.  0.  0.  0.  0.  0.  0.]\n",
      " [ 0.  0.  0.  0.  0.  0.  0.  0.]]\n"
     ]
    }
   ],
   "source": [
    "update_mat=np.zeros((8,8))\n",
    "p=now.shape[1]-1\n",
    "for i in range(1,p):\n",
    "    for j in range(1,p):\n",
    "        n_surv=now[max(0,(i-1)):(min(p,(i+1))+1),max(0,(j-1)):(min(p,(j+1))+1)].sum()\n",
    "        if now[i,j]==0:\n",
    "            update=1 if n_surv==3 else 0\n",
    "        else :\n",
    "            update=1 if n_surv==4 or n_surv==3 else 0\n",
    "        update_mat[i,j]=update\n",
    "\n",
    "print(update_mat)\n",
    "print((update_mat-now)+((update_mat+now)>=2)*2)"
   ]
  },
  {
   "cell_type": "code",
   "execution_count": 142,
   "metadata": {},
   "outputs": [],
   "source": [
    "def surv_game(now):\n",
    "    p=now.shape[1]-1\n",
    "    for i in range(1,p):\n",
    "        for j in range(1,p):\n",
    "            n_surv=now[max(0,(i-1)):(min(p,(i+1))+1),max(0,(j-1)):(min(p,(j+1))+1)].sum()\n",
    "            if now[i,j]==0:\n",
    "                update=1 if n_surv==3 else 0\n",
    "            else :\n",
    "                update=1 if n_surv==4 or n_surv==3 else 0\n",
    "            update_mat[i,j]=update\n",
    "    return(update_mat)\n",
    "    "
   ]
  },
  {
   "cell_type": "code",
   "execution_count": 143,
   "metadata": {},
   "outputs": [
    {
     "data": {
      "text/plain": [
       "array([[0., 0., 0., 0., 0., 0., 0., 0.],\n",
       "       [0., 0., 0., 0., 0., 0., 0., 0.],\n",
       "       [0., 0., 1., 1., 1., 0., 0., 0.],\n",
       "       [0., 0., 1., 0., 1., 0., 0., 0.],\n",
       "       [0., 0., 1., 1., 1., 0., 0., 0.],\n",
       "       [0., 0., 0., 0., 0., 0., 0., 0.],\n",
       "       [0., 0., 0., 0., 0., 0., 0., 0.],\n",
       "       [0., 0., 0., 0., 0., 0., 0., 0.]])"
      ]
     },
     "execution_count": 143,
     "metadata": {},
     "output_type": "execute_result"
    }
   ],
   "source": [
    "surv_game(now)"
   ]
  }
 ],
 "metadata": {
  "kernelspec": {
   "display_name": "Python 3",
   "language": "python",
   "name": "python3"
  },
  "language_info": {
   "codemirror_mode": {
    "name": "ipython",
    "version": 3
   },
   "file_extension": ".py",
   "mimetype": "text/x-python",
   "name": "python",
   "nbconvert_exporter": "python",
   "pygments_lexer": "ipython3",
   "version": "3.7.3"
  }
 },
 "nbformat": 4,
 "nbformat_minor": 2
}
