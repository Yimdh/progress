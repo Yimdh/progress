{
 "cells": [
  {
   "cell_type": "markdown",
   "id": "10e30d0a",
   "metadata": {},
   "source": [
    "# 베이지안 가설검정\n",
    "## 동기\n",
    "### 빈도주의 가설검정의 문제점\n",
    "1. 분석 과정이 어렵고 결과가 직관적이지 않다.\n",
    "\n",
    "\n",
    "2. p-value 는 오해가 쉽고 가설에 의존적이다."
   ]
  },
  {
   "cell_type": "markdown",
   "id": "c335a614",
   "metadata": {},
   "source": [
    "## 베이지안은?\n",
    "### 장점&특징\n",
    "1. **확률(=사후확률)** 을 구하고 이를 바탕으로 검정을 수행하기 때문에 **직관적**이다.\n",
    "\n",
    "\n",
    "2. 가설에 의존적이지 않다."
   ]
  },
  {
   "cell_type": "markdown",
   "id": "88edb8b4",
   "metadata": {},
   "source": [
    "### 간단한 예제\n",
    "#### 필수개념\n",
    "* 베이즈정리\n",
    "\\begin{eqnarray}\n",
    "p(\\theta|x) &=& \\frac{p(\\theta,x) }{ p(x) } \\nonumber \\\\\n",
    "&=& \\frac{p(\\theta|x)p(x)}{p(x)} \\nonumber\\\\\n",
    "&=& \\frac{p(\\theta|x)p(x)}{\\int p(\\theta|x)p(\\theta)} \\nonumber\n",
    "\\end{eqnarray}\n",
    "\n",
    "\n",
    "* 사전분포 = 사전정보 = prior,prior distribution : 자료를 얻기 전에 $\\theta$ 에 대하여 가지고 이는 정보 혹은 믿음, $\\pi(\\theta)$ 로 나타냄  \n",
    "\n",
    "\n",
    "* 사후분포 = posterior, posterior distribution : 자료 $X=x$ 를 얻고 난 후 $\\theta$에 대한 정보  \n",
    "\n",
    "\n",
    "$$\\pi(\\theta|x)=\\frac{\\pi(\\theta)f(x|\\theta)}{\\int \\pi(\\theta)f(x|\\theta) d\\theta}$$\n"
   ]
  },
  {
   "cell_type": "markdown",
   "id": "ae243509",
   "metadata": {},
   "source": [
    "```\n",
    "(참고) 베이즈 정리 떠올리기\n",
    "A,B,C 공장 생산비율 0.25,0.25,0.5 불량률 0.2,0.25,0.1 일때\n",
    "불량품이 발견되었을때 A공장에서 나올 확률은?  \n",
    "sol) \n",
    "```\n",
    "\n",
    "\\begin{eqnarray}\n",
    "p(A|불량)&=&\\frac{p(A|불량)}{p(A|불량)+p(B|불량)+p(C|불량)} \\nonumber \\\\\n",
    "&=&\\frac {p(A)p(불량|A)}{p(A)p(불량|A)+p(B)p(불량|B)+p(C)p(불량|C)}\\nonumber \\\\\n",
    "\\end{eqnarray}\n"
   ]
  },
  {
   "cell_type": "code",
   "execution_count": 77,
   "id": "ffe8f401",
   "metadata": {},
   "outputs": [
    {
     "name": "stdout",
     "output_type": "stream",
     "text": [
      "p(A|불량)= 0.3076923"
     ]
    }
   ],
   "source": [
    "p_A<-0.25#p(A)\n",
    "p_B<-0.25#p(B)\n",
    "p_C<-0.5#p(C)\n",
    "p_eA<-0.2#p(error|A)\n",
    "p_eB<-0.25#p(error|B)\n",
    "p_eC<-0.1#p(error|C)\n",
    "\n",
    "p_Ae <- (p_A*p_eA)/((p_A*p_eA)+(p_B*p_eB)+(p_C*p_eC))\n",
    "cat(\"p(A|불량)=\",p_Ae)\n"
   ]
  },
  {
   "cell_type": "markdown",
   "id": "dc35b18d",
   "metadata": {},
   "source": [
    "#### (예제) 아래와 같은 데이터에서 A,B 그룹 중 어떤 그룹이 전환률이 높은가?"
   ]
  },
  {
   "cell_type": "code",
   "execution_count": 78,
   "id": "b3f96f32",
   "metadata": {},
   "outputs": [
    {
     "data": {
      "text/html": [
       "<table class=\"dataframe\">\n",
       "<caption>A data.frame: 2 × 4</caption>\n",
       "<thead>\n",
       "\t<tr><th scope=col>group</th><th scope=col>n</th><th scope=col>conversion</th><th scope=col>ratio</th></tr>\n",
       "\t<tr><th scope=col>&lt;chr&gt;</th><th scope=col>&lt;dbl&gt;</th><th scope=col>&lt;dbl&gt;</th><th scope=col>&lt;dbl&gt;</th></tr>\n",
       "</thead>\n",
       "<tbody>\n",
       "\t<tr><td>A</td><td>100</td><td>55</td><td>0.55</td></tr>\n",
       "\t<tr><td>B</td><td>120</td><td>60</td><td>0.50</td></tr>\n",
       "</tbody>\n",
       "</table>\n"
      ],
      "text/latex": [
       "A data.frame: 2 × 4\n",
       "\\begin{tabular}{llll}\n",
       " group & n & conversion & ratio\\\\\n",
       " <chr> & <dbl> & <dbl> & <dbl>\\\\\n",
       "\\hline\n",
       "\t A & 100 & 55 & 0.55\\\\\n",
       "\t B & 120 & 60 & 0.50\\\\\n",
       "\\end{tabular}\n"
      ],
      "text/markdown": [
       "\n",
       "A data.frame: 2 × 4\n",
       "\n",
       "| group &lt;chr&gt; | n &lt;dbl&gt; | conversion &lt;dbl&gt; | ratio &lt;dbl&gt; |\n",
       "|---|---|---|---|\n",
       "| A | 100 | 55 | 0.55 |\n",
       "| B | 120 | 60 | 0.50 |\n",
       "\n"
      ],
      "text/plain": [
       "  group n   conversion ratio\n",
       "1 A     100 55         0.55 \n",
       "2 B     120 60         0.50 "
      ]
     },
     "metadata": {},
     "output_type": "display_data"
    }
   ],
   "source": [
    "library('tidyverse')\n",
    "n<-c(100,120)\n",
    "conversion<-c(55,60)\n",
    "group<-c('A','B')\n",
    "\n",
    "data.frame(group=group,n=n,conversion=conversion) %>% mutate(ratio=conv/n)"
   ]
  },
  {
   "cell_type": "markdown",
   "id": "f58e3723",
   "metadata": {},
   "source": [
    "**$\\star$ 우리가 알고 싶은 것 : 어떤 그룹이 전환률이 높은가 ?**  \n",
    "\n",
    "**$\\Rightarrow$ $p(A>B)$ or $p(B<A)$ 를 구하면 되지 않을까?**\n",
    "\n",
    "```\n",
    "(비교)고전적 가설검정  \n",
    "아래의 가설로 두 집단의 확률이 같은지 이표본 모비율 검정, p-value 확인 \n",
    "\n",
    "```\n",
    "$$H_0 : p_A = p_B \\text{ vs } H_1 : p_A \\neq p_B$$\n"
   ]
  },
  {
   "cell_type": "markdown",
   "id": "23899cc4",
   "metadata": {},
   "source": [
    "알아야하는 것 : **결합확률밀도함수** $p(a,b)=p(a|A)p(b|B)$ $\\because$ 독립  \n",
    "\n",
    "\n",
    "$p(a|A),p(b|B)$ 를 알면 결합확률밀도함수를 구할 수 있으며, 이를 통해 $p(A>B),p(B>A)$ 를 계산할 수 있음\n",
    "\n",
    "**이때 사전정보(prior)가 없을 때 이항분포의 사후분포(posterior)는 베타분포를 따른다고 알려져 있음**\n",
    "\n",
    "$$p(a|A) \\sim Beta(55,45)$$\n",
    "$$p(b|B) \\sim Beta(60,60)$$\n",
    "\n",
    "$$\\therefore p_{A,B}(a,b) = p(a|A)p(b|B)$$\n",
    "\n",
    "\n",
    "$$p(A>B)=\\int^1_{a=0}\\int_{b=0}^ap(a|A)p(b|B)$$"
   ]
  },
  {
   "cell_type": "code",
   "execution_count": 79,
   "id": "7c3a60ab",
   "metadata": {},
   "outputs": [
    {
     "name": "stdout",
     "output_type": "stream",
     "text": [
      "P(A>B) =  \n"
     ]
    },
    {
     "data": {
      "text/plain": [
       "0.7712913 with absolute error < 5.7e-05"
      ]
     },
     "metadata": {},
     "output_type": "display_data"
    },
    {
     "name": "stdout",
     "output_type": "stream",
     "text": [
      "P(B>A) =  \n"
     ]
    },
    {
     "data": {
      "text/plain": [
       "0.2287087 with absolute error < 8.4e-07"
      ]
     },
     "metadata": {},
     "output_type": "display_data"
    }
   ],
   "source": [
    "cat(\"P(A>B) = \",'\\n')\n",
    "integrate(function(x) dbeta(x,55,45)*pbeta(x,60,60),0,1)\n",
    "          \n",
    "cat(\"P(B>A) = \",'\\n')\n",
    "integrate(function(x) dbeta(x,60,60)*pbeta(x,55,45),0,1)\n",
    "          \n",
    "#integrate(function(x) dbeta(x,171,331)*pbeta(x,3301,6701),0,1)\n",
    "#integrate(function(x) dbeta(x,3301,6701)*pbeta(x,171,331),0,1)"
   ]
  },
  {
   "cell_type": "markdown",
   "id": "1be038b1",
   "metadata": {},
   "source": [
    "```\n",
    "(참고)이항분포의 사후분포 유도 예시\n",
    "```\n",
    "$$p(x|\\theta)\\sim b(10,\\theta)$$\n",
    "\n",
    "$$p(x=3|\\theta)={10 \\choose 3} \\theta^3 (1-\\theta)^7$$\n",
    "\n",
    "$$\\pi(\\theta) \\sim uni(0,1),\\pi(\\theta)=1$$\n",
    "\n",
    "\\begin{eqnarray}\n",
    "p(\\theta|x=3) &=& \\frac{\\pi(\\theta)f(|\\theta)}{\\int \\pi(\\theta)f(x|\\theta)d\\theta} \\nonumber\\\\\n",
    "&=& \\frac {\\pi(\\theta) {10 \\choose 3} \\theta^3 (1-\\theta)^7 }{\\int \\pi(\\theta) {10 \\choose 3}\\theta^3 (1-\\theta)^7 d\\theta} \\nonumber\\\\\n",
    "&=& \\frac{\\theta^3(1-\\theta)^7}{\\frac{\\Gamma (8)\\Gamma (4)}{\\Gamma (12)}  {\\int \\frac{\\Gamma (12)}{\\Gamma (8)\\Gamma (4)}\\theta^3 (1-\\theta)^7 d\\theta} } \\quad \\because \\pi(\\theta)=1 \\nonumber \\\\\n",
    "&=& \\frac {\\Gamma (12)}{\\Gamma (8) \\Gamma (4)} \\theta^3(1-\\theta)^7  \\quad \\because \\int_0^1 \\frac{\\Gamma (12)}{\\Gamma (8)\\Gamma (4)} \\theta^3 (1-\\theta)^7 d\\theta = 1 \\nonumber \\\\\n",
    "&\\sim& Beta(4,8) \\nonumber \\\\\n",
    "\\end{eqnarray}\n",
    "\n",
    "$$\\therefore p(\\theta|x=3) \\sim Beta(3+1,10-3+1)$$"
   ]
  },
  {
   "cell_type": "markdown",
   "id": "77dff296",
   "metadata": {},
   "source": [
    "#### 단점\n",
    "1. 항상 사후분포를 알 수 있을까 ? no > mcmc를 통해 사후분포 근사\n",
    "\n",
    "\n",
    "2. 결론은 직관적이지만 과정은 복잡함"
   ]
  }
 ],
 "metadata": {
  "kernelspec": {
   "display_name": "R",
   "language": "R",
   "name": "ir"
  },
  "language_info": {
   "codemirror_mode": "r",
   "file_extension": ".r",
   "mimetype": "text/x-r-source",
   "name": "R",
   "pygments_lexer": "r",
   "version": "4.1.2"
  }
 },
 "nbformat": 4,
 "nbformat_minor": 5
}
