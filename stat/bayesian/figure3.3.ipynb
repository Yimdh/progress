{
 "cells": [
  {
   "cell_type": "code",
   "execution_count": null,
   "id": "de4cdb2a",
   "metadata": {},
   "outputs": [],
   "source": [
    "library(GA)\n",
    "\n",
    "x<-seq(0.01,5,length.out=100)\n",
    "y<-seq(0.01,5,length.out=100)\n",
    "\n",
    "pdf_x <- dunif(x,0,5)\n",
    "pdf_y <- dunif(y,0,5)\n",
    "uni_M<- outer(pdf_x,pdf_y,'*') #p(theta)\n",
    "\n",
    "pdf_x <- dexp(x,1/3)\n",
    "pdf_y <- dexp(y,1/10)\n",
    "exp_M<- outer(pdf_x,pdf_y,'*') #p(theta)\n",
    "\n",
    "persp3D(x,y,M,theta =50,phi=30)\n",
    "\n",
    "N<-2\n",
    "true_lambda_1<-1\n",
    "true_lambda_2<-3\n",
    "\n",
    "l1<-l2<-matrix(ncol=N,nrow=100)\n",
    "for(i in 1:N) l1[,i]=dpois(rpois(1,true_lambda_1),x)\n",
    "for(i in 1:N) l2[,i]=dpois(rpois(1,true_lambda_2),x)\n",
    "\n",
    "L<-outer(\n",
    "apply(l1,1,prod)\n",
    ",apply(l2,1,prod)\n",
    ",\"*\"\n",
    ")\n",
    "\n",
    "persp3D(x,y,L*exp_M,theta =270,phi=90)\n",
    "persp3D(x,y,L*uni_M,theta =270,phi=90)"
   ]
  }
 ],
 "metadata": {
  "kernelspec": {
   "display_name": "Python 3",
   "language": "python",
   "name": "python3"
  },
  "language_info": {
   "codemirror_mode": {
    "name": "ipython",
    "version": 3
   },
   "file_extension": ".py",
   "mimetype": "text/x-python",
   "name": "python",
   "nbconvert_exporter": "python",
   "pygments_lexer": "ipython3",
   "version": "3.8.8"
  }
 },
 "nbformat": 4,
 "nbformat_minor": 5
}
