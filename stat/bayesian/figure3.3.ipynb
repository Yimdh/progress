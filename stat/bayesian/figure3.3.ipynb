{
 "cells": [
  {
   "cell_type": "code",
   "execution_count": 2,
   "id": "29771eb4",
   "metadata": {},
   "outputs": [
    {
     "name": "stderr",
     "output_type": "stream",
     "text": [
      "Warning message in install.packages(\"GA\"):\n",
      "“installation of package ‘GA’ had non-zero exit status”\n",
      "Updating HTML index of packages in '.Library'\n",
      "\n",
      "Making 'packages.html' ...\n",
      " done\n",
      "\n"
     ]
    },
    {
     "ename": "ERROR",
     "evalue": "Error in library(GA): ‘GA’이라고 불리는 패키지가 없습니다\n",
     "output_type": "error",
     "traceback": [
      "Error in library(GA): ‘GA’이라고 불리는 패키지가 없습니다\nTraceback:\n",
      "1. library(GA)"
     ]
    }
   ],
   "source": [
    "library(GA)\n",
    "\n",
    "x<-seq(0.01,5,length.out=100)\n",
    "y<-seq(0.01,5,length.out=100)\n",
    "\n",
    "pdf_x <- dunif(x,0,5)\n",
    "pdf_y <- dunif(y,0,5)\n",
    "uni_M<- outer(pdf_x,pdf_y,'*') #p(theta)\n",
    "\n",
    "pdf_x <- dexp(x,1/3)\n",
    "pdf_y <- dexp(y,1/10)\n",
    "exp_M<- outer(pdf_x,pdf_y,'*') #p(theta)\n",
    "\n",
    "persp3D(x,y,M,theta =50,phi=30)\n",
    "\n",
    "N<-2\n",
    "true_lambda_1<-1\n",
    "true_lambda_2<-3\n",
    "\n",
    "l1<-l2<-matrix(ncol=N,nrow=100)\n",
    "for(i in 1:N) l1[,i]=dpois(rpois(1,true_lambda_1),x)\n",
    "for(i in 1:N) l2[,i]=dpois(rpois(1,true_lambda_2),x)\n",
    "\n",
    "L<-outer(\n",
    "apply(l1,1,prod)\n",
    ",apply(l2,1,prod)\n",
    ",\"*\"\n",
    ")\n",
    "\n",
    "persp3D(x,y,L*exp_M,theta =270,phi=90)\n",
    "persp3D(x,y,L*uni_M,theta =270,phi=90)"
   ]
  }
 ],
 "metadata": {
  "kernelspec": {
   "display_name": "R",
   "language": "R",
   "name": "ir"
  },
  "language_info": {
   "codemirror_mode": "r",
   "file_extension": ".r",
   "mimetype": "text/x-r-source",
   "name": "R",
   "pygments_lexer": "r",
   "version": "4.1.2"
  }
 },
 "nbformat": 4,
 "nbformat_minor": 5
}
