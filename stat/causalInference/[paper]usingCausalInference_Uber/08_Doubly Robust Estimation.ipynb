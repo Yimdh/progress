{
 "cells": [
  {
   "cell_type": "markdown",
   "metadata": {},
   "source": [
    "# **Causal inference with observational data**\n",
    "## Doubly Robust Estimation\n",
    "* Have repeated overvations of the outcome over time? (시계열인가?)\n",
    " * **no**\n",
    "* Treatment assignment depends on a sharp cutoff?(처리에 대한 정학한 구분점이 있는가?)\n",
    " * **no**\n",
    "* Have a third variable associated with the outcome only through the cause variable?(원인 변수에만 영향을 주는 세번째 변수를 가지고 있는가?)\n",
    " * **no**\n"
   ]
  },
  {
   "cell_type": "markdown",
   "metadata": {},
   "source": [
    "## Maximum likelihood of a regression model of the outcome\n",
    "$$\\mathbb E(Y|X,Z)=\\beta_0+\\beta_1X+\\beta_2Z_1+\\beta_3Z_2+\\beta_{k+1}Z_k$$\n",
    "\n",
    "## Inverse probability weighted (IPW) approach\n",
    "$$\\text{logit} \\mathbb P(X|Z)=\\beta_0+\\beta_1Z_1+\\beta_2Z_2+\\beta_3Z_3+\\beta_{k}Z_k$$\n",
    "\n",
    "## Definition\n",
    "\n",
    "$$m_1(Z)=\\mathbb E(Y|X=1,Z)$$\n",
    "$$m_0(Z)=\\mathbb E(Y|X=0,Z)$$\n",
    "$$\\frac 1 n \\sum_{i=1}^n\\{X_iY_i-(1-X_i)m_1(Z_i)\\}$$\n",
    "$$\\hat \\Delta_{\\text{DR}} = n^{-1} \\sum^n_{i=1}\\left[\\frac{X_iY_i}{\\pi_i(Z_i)}-\\frac {\\{X_i-\\pi_i(Z_i)\\}}{\\pi_i(Z_i)}m_1(Z_i)\\right]-n^{-1} \\sum^n_{i=1}\\left[\\frac{(1-X_i)Y_i}{1-\\pi_i(Z_i)}-\\frac {\\{X_i-\\pi_i(Z_i)\\}}{1-\\pi_i(Z_i)}m_0(Z_i)\\right]$$\n"
   ]
  },
  {
   "cell_type": "code",
   "execution_count": null,
   "metadata": {},
   "outputs": [],
   "source": [
    "\n"
   ]
  }
 ],
 "metadata": {
  "kernelspec": {
   "display_name": "R",
   "language": "R",
   "name": "ir"
  },
  "language_info": {
   "codemirror_mode": "r",
   "file_extension": ".r",
   "mimetype": "text/x-r-source",
   "name": "R",
   "pygments_lexer": "r",
   "version": "3.6.1"
  }
 },
 "nbformat": 4,
 "nbformat_minor": 4
}
