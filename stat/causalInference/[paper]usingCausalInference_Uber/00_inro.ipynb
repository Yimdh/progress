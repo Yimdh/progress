{
 "cells": [
  {
   "cell_type": "markdown",
   "metadata": {},
   "source": [
    "# Casual Inference"
   ]
  },
  {
   "cell_type": "markdown",
   "metadata": {},
   "source": [
    "## Motivation (observation case)\n",
    "Q : 병원을 가는것은 감기 완치에 도움이 되는가?\n",
    "\n",
    "A group - 병원방문   \n",
    "B group - 미방문\n",
    "\n",
    "\n",
    "| $Y$  | A  |  B |\n",
    "|---|---|---|\n",
    "| $Y_1$  | 10  | $\\times$  |\n",
    "| $Y_2$ | $\\times$  | 8  |\n",
    "| $Y_3$  | 12  | $\\times$  |\n",
    "| $\\vdots$  | $\\vdots$  | $\\vdots$  |\n",
    "| $Y_n$  |  $\\times$ | 7  |\n",
    "\n",
    "$\\bar {Y}_A = 11$  \n",
    "$\\bar {Y}_B=8$   \n",
    "$H_0 : \\bar Y_{A-B} \\leq 0$  \n",
    "$H_0$ reject.\n",
    "$\\rightarrow$ 병원 방문은 감기 치료에 도움이 안된다 ?\n",
    "\n",
    "* 문제점\n",
    "1. 병원은 더 아픈사람이 감 $\\rightarrow$ 그룹이 랜덤이 아님\n",
    "2. 대상이 다른 선택을 했을때의 결과를 알 수 없음  \n",
    "\n",
    "* 알고 싶은 것\n",
    " * **병원과 감기치료에 대한 인과성(casuality or causal effect)**\n"
   ]
  },
  {
   "cell_type": "markdown",
   "metadata": {},
   "source": [
    "## Casual Inference Into\n",
    "### Fundermental Question\n",
    ": what are the treatments causal effect a particular individual as measured by an outcome \n",
    "### Fundermental Problem\n",
    ": we are never able to see the counterfactual\n",
    "### Counterfactual outcome\n",
    ": 발생하지 않았을 때의 결과(unobservable)\n",
    ": be never able to see  \n",
    "### Causality \n",
    ": The difference between actual outcomes and counterfactual outcome"
   ]
  },
  {
   "cell_type": "markdown",
   "metadata": {},
   "source": [
    "$\\Rightarrow$ counterfactual 조건하에서 인과 효과(casual effect)를 검정하는것"
   ]
  },
  {
   "cell_type": "markdown",
   "metadata": {},
   "source": [
    "## vs Statistical inference\n",
    "### assumtion\n",
    "* iid\n",
    "\n",
    "### problem\n",
    "* 실제 데이터에서 이러한 가정들은 만족이 어려움 \n",
    "* 실험설계가 불가능하고 고객이 다른 선택을 했을때의 결과는 알 수 없다"
   ]
  },
  {
   "cell_type": "markdown",
   "metadata": {},
   "source": [
    "## 분류\n",
    "* experimental data\n",
    "* observational data"
   ]
  },
  {
   "cell_type": "code",
   "execution_count": null,
   "metadata": {},
   "outputs": [],
   "source": []
  }
 ],
 "metadata": {
  "kernelspec": {
   "display_name": "R",
   "language": "R",
   "name": "ir"
  },
  "language_info": {
   "codemirror_mode": "r",
   "file_extension": ".r",
   "mimetype": "text/x-r-source",
   "name": "R",
   "pygments_lexer": "r",
   "version": "3.6.1"
  }
 },
 "nbformat": 4,
 "nbformat_minor": 4
}
